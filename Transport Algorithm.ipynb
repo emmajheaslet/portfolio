{
 "cells": [
  {
   "cell_type": "code",
   "execution_count": 0,
   "metadata": {
    "application/vnd.databricks.v1+cell": {
     "cellMetadata": {
      "byteLimit": 2048000,
      "rowLimit": 10000
     },
     "inputWidgets": {},
     "nuid": "4109d852-5927-44ae-a3e7-5478d906ac91",
     "showTitle": false,
     "tableResultSettingsMap": {},
     "title": ""
    }
   },
   "outputs": [],
   "source": [
    "pip install googlemaps"
   ]
  },
  {
   "cell_type": "code",
   "execution_count": 0,
   "metadata": {
    "application/vnd.databricks.v1+cell": {
     "cellMetadata": {
      "byteLimit": 2048000,
      "rowLimit": 10000
     },
     "inputWidgets": {},
     "nuid": "ba14fddc-82c6-4df2-8734-98546a98f5b2",
     "showTitle": false,
     "tableResultSettingsMap": {},
     "title": ""
    }
   },
   "outputs": [],
   "source": [
    "import googlemaps"
   ]
  },
  {
   "cell_type": "code",
   "execution_count": 0,
   "metadata": {
    "application/vnd.databricks.v1+cell": {
     "cellMetadata": {
      "byteLimit": 2048000,
      "rowLimit": 10000
     },
     "inputWidgets": {},
     "nuid": "e021c462-0809-4cbf-a7b3-73ceac3b5851",
     "showTitle": false,
     "tableResultSettingsMap": {},
     "title": ""
    }
   },
   "outputs": [],
   "source": [
    "gmaps = googlemaps.Client(key=dbutils.widgets.get(\"Google_Maps_Key\"))\n",
    "from datetime import datetime"
   ]
  },
  {
   "cell_type": "code",
   "execution_count": 0,
   "metadata": {
    "application/vnd.databricks.v1+cell": {
     "cellMetadata": {
      "byteLimit": 2048000,
      "rowLimit": 10000
     },
     "inputWidgets": {},
     "nuid": "f1411ebd-5ade-4de6-9d83-cb08ec4c6709",
     "showTitle": false,
     "tableResultSettingsMap": {},
     "title": ""
    }
   },
   "outputs": [],
   "source": [
    "def drive_or_walk(miles, parking_cost):\n",
    "    mph_drive = 20\n",
    "    mph_walk = 4\n",
    "    mph_bus = 10\n",
    "    max_walking_time_minutes = 20\n",
    "    bus_one_way_cost = 2.75\n",
    "    travel_time_walk = miles/mph_walk\n",
    "    travel_time_drive = miles/mph_drive\n",
    "    travel_time_bus = miles/mph_bus\n",
    "    if travel_time_walk <= max_walking_time_minutes/60:\n",
    "        return \"walk\"\n",
    "    elif parking_cost <= bus_one_way_cost:\n",
    "        return \"drive\"\n",
    "    elif travel_time_bus <= travel_time_drive*1.5: \n",
    "        return \"bus\"\n",
    "    else: return \"drive\"\n",
    "    return total_distance\n",
    "drive_or_walk(10, 20) \n",
    "\n",
    "#variables: miles per gallon, parking cost, gas price, one way vs. round trip-durat"
   ]
  },
  {
   "cell_type": "code",
   "execution_count": 0,
   "metadata": {
    "application/vnd.databricks.v1+cell": {
     "cellMetadata": {
      "byteLimit": 2048000,
      "rowLimit": 10000
     },
     "inputWidgets": {},
     "nuid": "7b402e40-f665-44ab-9c79-0c04128c0c23",
     "showTitle": false,
     "tableResultSettingsMap": {},
     "title": ""
    }
   },
   "outputs": [],
   "source": [
    "def transit_mode(start_location, end_location, parking_cost):\n",
    "    now = datetime.now()\n",
    "    max_walking_time_seconds = 20*60\n",
    "    bus_one_way_cost = 2.75\n",
    "    walk_directions = gmaps.directions(start_location,\n",
    "                                     end_location,\n",
    "                                     mode=\"walking\",\n",
    "                                     departure_time=now)\n",
    "    travel_time_walk = walk_directions[0]['legs'][0]['duration']['value']\n",
    "    drive_directions = gmaps.directions(start_location,\n",
    "                                     end_location,\n",
    "                                     mode=\"driving\",\n",
    "                                     departure_time=now)\n",
    "    travel_time_drive = drive_directions[0]['legs'][0]['duration']['value']\n",
    "    transit_directions = gmaps.directions(start_location,\n",
    "                                     end_location,\n",
    "                                     mode=\"transit\",\n",
    "                                     departure_time=now)\n",
    "    travel_time_transit = transit_directions[0]['legs'][0]['duration']['value']\n",
    "    if travel_time_walk <= max_walking_time_seconds:\n",
    "        return \"walk\"\n",
    "    elif parking_cost <= bus_one_way_cost:\n",
    "        return \"drive\"\n",
    "    elif travel_time_transit <= travel_time_drive*1.5: \n",
    "        return \"bus\"\n",
    "    else: return \"drive\"\n",
    "    return total_distance\n",
    "transit_mode(\"5445B Fauntleroy Way SW, Seattle, WA 98136\", \"3703 California Ave SW STE A, Seattle, WA 98116\", 0) "
   ]
  }
 ],
 "metadata": {
  "application/vnd.databricks.v1+notebook": {
   "computePreferences": null,
   "dashboards": [],
   "environmentMetadata": {
    "base_environment": "",
    "environment_version": "2"
   },
   "inputWidgetPreferences": null,
   "language": "python",
   "notebookMetadata": {
    "pythonIndentUnit": 4
   },
   "notebookName": "Transport Algorithm",
   "widgets": {
    "Google_Maps_Key": {
     "currentValue": "\"\"",
     "nuid": "9eb9ac58-78ee-405a-9c3a-615e33fe85d7",
     "typedWidgetInfo": {
      "autoCreated": false,
      "defaultValue": "\"\"",
      "label": "Google Maps Key",
      "name": "Google_Maps_Key",
      "options": {
       "widgetDisplayType": "Text",
       "validationRegex": null
      },
      "parameterDataType": "String"
     },
     "widgetInfo": {
      "widgetType": "text",
      "defaultValue": "\"\"",
      "label": "Google Maps Key",
      "name": "Google_Maps_Key",
      "options": {
       "widgetType": "text",
       "autoCreated": false,
       "validationRegex": null
      }
     }
    }
   }
  },
  "language_info": {
   "name": "python"
  }
 },
 "nbformat": 4,
 "nbformat_minor": 0
}
